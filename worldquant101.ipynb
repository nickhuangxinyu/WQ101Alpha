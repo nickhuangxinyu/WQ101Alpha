{
 "cells": [
  {
   "cell_type": "code",
   "execution_count": 1,
   "metadata": {},
   "outputs": [],
   "source": [
    "import pandas as pd\n",
    "pd.set_option('mode.use_inf_as_na', True)\n",
    "import os\n",
    "import sys \n",
    "import time\n",
    "import numpy as np\n",
    "import matplotlib.pyplot as plt \n",
    "\n",
    "num_class = 10\n",
    "path = '/root/ricequant/'\n",
    "df = pd.read_csv(path+'merge.csv', dtype={'ticker':str})\n",
    "start = time.time()\n",
    "df['yr'] = df.groupby('ticker')['close'].apply(lambda x: x.diff(-1) / x)\n",
    "df = df[df['date'] > '2006']"
   ]
  },
  {
   "cell_type": "code",
   "execution_count": 2,
   "metadata": {},
   "outputs": [],
   "source": [
    "def AddFactorLabel(df, num_class, factor_name):\n",
    "    d = df.groupby('date', as_index=False).apply(lambda x: pd.qcut(x[factor_name], q=num_class, labels=False, duplicates='drop'))\n",
    "    label = d.reset_index(level=0)[factor_name]\n",
    "    df[factor_name + '_label'] = label\n",
    "\n",
    "def PlotFactor(df, num_class, factor_name):\n",
    "    temp = df.groupby(factor_name+'_label')['yr'].mean().to_dict()\n",
    "    print(temp)\n",
    "    plt.title('%s corr %lf' %(factor_name, df['yr'].corr(df[factor_name])))\n",
    "    plt.bar(range(len(temp.keys())), [temp[i] for i in temp.keys()])\n",
    "    plt.show()\n",
    "    return df"
   ]
  },
  {
   "cell_type": "code",
   "execution_count": 3,
   "metadata": {},
   "outputs": [],
   "source": [
    "df['alpha6'] = df.groupby('ticker', as_index=False).apply(lambda x : -x['open'].rolling(10).corr(x['volume'].rolling(10))).reset_index(level=0)[0]\n",
    "AddFactorLabel(df, num_class, 'alpha6')"
   ]
  },
  {
   "cell_type": "code",
   "execution_count": 4,
   "metadata": {},
   "outputs": [],
   "source": [
    "df['alpha33'] = df.groupby('ticker', as_index=False).apply(lambda x: (x['open']/x['close']).rank()).reset_index(level=0)[0]\n",
    "AddFactorLabel(df, num_class, 'alpha33')"
   ]
  },
  {
   "cell_type": "code",
   "execution_count": 5,
   "metadata": {},
   "outputs": [
    {
     "name": "stdout",
     "output_type": "stream",
     "text": [
      "{0.0: -0.0002862573158064751, 1.0: -0.0004935996323616107, 2.0: -0.000702726149214117, 3.0: -0.0007960890747711565, 4.0: -0.0007723017428910338, 5.0: -0.0008402212385193589, 6.0: -0.0008580096011591261, 7.0: -0.000866761294687934, 8.0: -0.0009229465982027572, 9.0: -0.0004045768089929065}\n"
     ]
    },
    {
     "data": {
      "image/png": "[encoded data removed]",
      "text/plain": [
       "<Figure size 432x288 with 1 Axes>"
      ]
     },
     "metadata": {
      "needs_background": "light"
     },
     "output_type": "display_data"
    }
   ],
   "source": [
    "a=PlotFactor(df, num_class, 'alpha6')"
   ]
  },
  {
   "cell_type": "code",
   "execution_count": 6,
   "metadata": {},
   "outputs": [
    {
     "name": "stdout",
     "output_type": "stream",
     "text": [
      "{0: -0.0017468735043794272, 1: -0.000998885303895025, 2: -0.0008852896200861154, 3: -0.0008984609822678448, 4: -0.000923433312394963, 5: -0.000912742290642331, 6: -0.000939729534103965, 7: -0.000675692672498224, 8: -0.0006313427862318343, 9: 0.00043158811323553646}\n"
     ]
    },
    {
     "data": {
      "image/png": "[encoded data removed]",
      "text/plain": [
       "<Figure size 432x288 with 1 Axes>"
      ]
     },
     "metadata": {
      "needs_background": "light"
     },
     "output_type": "display_data"
    }
   ],
   "source": [
    "a=PlotFactor(df, num_class, 'alpha33')"
   ]
  }
 ],
 "metadata": {
  "kernelspec": {
   "display_name": "Python 2",
   "language": "python",
   "name": "python2"
  },
  "language_info": {
   "codemirror_mode": {
    "name": "ipython",
    "version": 2
   },
   "file_extension": ".py",
   "mimetype": "text/x-python",
   "name": "python",
   "nbconvert_exporter": "python",
   "pygments_lexer": "ipython2",
   "version": "2.7.15"
  }
 },
 "nbformat": 4,
 "nbformat_minor": 2
}
